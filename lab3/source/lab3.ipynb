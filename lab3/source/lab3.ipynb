{
 "cells": [
  {
   "cell_type": "code",
   "execution_count": 12,
   "metadata": {},
   "outputs": [],
   "source": [
    "from random import randrange\n",
    "\n",
    "def generate_arr(len):\n",
    "    return [6 for i in range(len)]\n",
    "    \n",
    "def print_arr(arr):\n",
    "    for i in arr:\n",
    "        print(i, end = \" \")\n",
    "    print('\\n\\n')"
   ]
  },
  {
   "cell_type": "markdown",
   "metadata": {},
   "source": [
    "### Сортировка вставками"
   ]
  },
  {
   "cell_type": "code",
   "execution_count": 2,
   "metadata": {},
   "outputs": [
    {
     "name": "stdout",
     "output_type": "stream",
     "text": [
      "896 25 485 308 646 666 518 60 71 103 329 645 251 710 323 13 742 599 197 243 425 769 758 617 824 810 357 607 143 63 110 828 448 164 539 52 9 908 806 82 53 769 711 667 396 809 108 782 447 40 841 974 118 331 573 580 111 922 519 345 975 248 129 454 974 424 561 685 327 169 894 634 966 896 309 993 808 993 834 567 404 886 117 22 847 198 127 926 655 636 260 332 155 121 66 615 140 304 142 254 \n",
      "\n",
      "\n",
      "9 13 22 25 40 52 53 60 63 66 71 82 103 108 110 111 117 118 121 127 129 140 142 143 155 164 169 197 198 243 248 251 254 260 304 308 309 323 327 329 331 332 345 357 396 404 424 425 447 448 454 485 518 519 539 561 567 573 580 599 607 615 617 634 636 645 646 655 666 667 685 710 711 742 758 769 769 782 806 808 809 810 824 828 834 841 847 886 894 896 896 908 922 926 966 974 974 975 993 993 \n",
      "\n",
      "\n"
     ]
    }
   ],
   "source": [
    "def insertion_sort(arr):\n",
    "    for i in range(1, len(arr)):\n",
    "        key = arr[i]\n",
    "        j = i-1\n",
    "        while j >=0 and key < arr[j] :\n",
    "            arr[j+1] = arr[j]\n",
    "            j -= 1\n",
    "        arr[j+1] = key\n",
    "    return arr\n",
    "        \n",
    "arr = generate_arr(100)\n",
    "print_arr(arr)\n",
    "\n",
    "\n",
    "arr = insertion_sort(arr)\n",
    "print_arr(arr)"
   ]
  },
  {
   "cell_type": "markdown",
   "metadata": {},
   "source": [
    "### Гномья сортировка"
   ]
  },
  {
   "cell_type": "code",
   "execution_count": 3,
   "metadata": {},
   "outputs": [
    {
     "name": "stdout",
     "output_type": "stream",
     "text": [
      "300 221 367 17 654 821 377 848 358 176 172 13 818 504 181 963 480 601 650 589 529 976 113 679 196 838 583 666 649 217 794 826 808 4 953 908 720 506 641 3 440 36 923 842 504 967 951 62 239 768 960 89 575 467 574 849 791 634 30 238 523 407 142 21 248 620 351 498 696 584 509 663 987 428 967 133 14 88 49 36 753 850 203 29 796 790 296 955 620 254 573 140 434 967 336 620 627 547 438 936 \n",
      "\n",
      "\n",
      "221 300 367 17 654 821 377 848 358 176 172 13 818 504 181 963 480 601 650 589 529 976 113 679 196 838 583 666 649 217 794 826 808 4 953 908 720 506 641 3 440 36 923 842 504 967 951 62 239 768 960 89 575 467 574 849 791 634 30 238 523 407 142 21 248 620 351 498 696 584 509 663 987 428 967 133 14 88 49 36 753 850 203 29 796 790 296 955 620 254 573 140 434 967 336 620 627 547 438 936 \n",
      "\n",
      "\n"
     ]
    }
   ],
   "source": [
    "def gnome_sort(arr):\n",
    "    i = 1\n",
    "    while i < len(arr):\n",
    "        if not i or arr[i - 1] <= arr[i]:\n",
    "            i += 1\n",
    "        else :\n",
    "            arr[i], arr[i - 1] = arr[i - 1] , arr[i]\n",
    "            i -= 1\n",
    "        return arr\n",
    "\n",
    "\n",
    "\n",
    "arr = generate_arr(100)\n",
    "print_arr(arr)\n",
    "\n",
    "arr = gnome_sort(arr)\n",
    "print_arr(arr)"
   ]
  },
  {
   "cell_type": "code",
   "execution_count": 4,
   "metadata": {},
   "outputs": [
    {
     "name": "stdout",
     "output_type": "stream",
     "text": [
      "133 235 511 148 292 487 466 214 540 536 703 603 598 85 701 954 214 269 396 901 771 158 337 452 600 16 881 643 360 681 935 481 353 558 164 768 367 863 284 669 238 772 614 831 926 20 57 821 464 483 574 445 524 913 864 359 784 957 346 65 570 538 289 850 263 24 779 181 774 583 199 861 517 421 787 568 987 277 736 469 987 881 218 696 382 148 561 184 66 652 765 782 776 160 521 25 6 618 189 630 \n",
      "\n",
      "\n",
      "6 16 20 24 25 57 65 66 85 133 148 148 158 160 164 181 184 189 199 214 214 218 235 238 263 269 277 284 289 292 337 346 353 359 360 367 382 396 421 445 452 464 466 469 481 483 487 511 517 521 524 536 538 540 558 561 568 570 574 583 598 600 603 614 618 630 643 652 669 681 696 701 703 736 765 768 771 772 774 776 779 782 784 787 821 831 850 861 863 864 881 881 901 913 926 935 954 957 987 987 \n",
      "\n",
      "\n"
     ]
    }
   ],
   "source": [
    "def partition(nums, low, high):\n",
    "    pivot = nums[(low + high) // 2]\n",
    "    i = low - 1\n",
    "    j = high + 1\n",
    "    while True:\n",
    "        i += 1\n",
    "        while nums[i] < pivot:\n",
    "            i += 1\n",
    "        j -= 1\n",
    "        while nums[j] > pivot:\n",
    "            j -= 1\n",
    "        if i >= j:\n",
    "            return j\n",
    "        nums[i], nums[j] = nums[j], nums[i]\n",
    "        \n",
    "\n",
    "def quick_sort(nums):  \n",
    "    def _quick_sort(items, low, high):\n",
    "        if low < high:\n",
    "            split_index = partition(items, low, high)\n",
    "            _quick_sort(items, low, split_index)\n",
    "            _quick_sort(items, split_index + 1, high)\n",
    "    _quick_sort(nums, 0, len(nums) - 1)\n",
    "    \n",
    "arr = generate_arr(100)\n",
    "print_arr(arr)\n",
    "\n",
    "quick_sort(arr)\n",
    "print_arr(arr)"
   ]
  },
  {
   "cell_type": "code",
   "execution_count": 13,
   "metadata": {},
   "outputs": [
    {
     "name": "stdout",
     "output_type": "stream",
     "text": [
      "Введите длинну массива: 10\n",
      "\n",
      "Массив до сортировки: 6 6 6 6 6 6 6 6 6 6 \n",
      "\n",
      "\n",
      "\n",
      "Массив после сортировки вставками: 6 6 6 6 6 6 6 6 6 6 \n",
      "\n",
      "\n",
      "\n",
      "Массив после сортировки слиянием: 6 6 6 6 6 6 6 6 6 6 \n",
      "\n",
      "\n",
      "\n",
      "Массив после быстрой сортировк: 6 6 6 6 6 6 6 6 6 6 \n",
      "\n",
      "\n"
     ]
    }
   ],
   "source": [
    "n = int(input(\"Введите длинну массива: \"))\n",
    "\n",
    "arr = generate_arr(n)\n",
    "\n",
    "print(\"\\nМассив до сортировки: \",end = \"\")\n",
    "print_arr(arr)\n",
    "\n",
    "arr1 = insertion_sort(arr)\n",
    "print(\"\\nМассив после сортировки вставками: \", end = \"\")\n",
    "print_arr(arr1)\n",
    "\n",
    "arr2 = gnome_sort(arr)\n",
    "print(\"\\nМассив после сортировки слиянием: \", end = \"\")\n",
    "print_arr(arr2)\n",
    "\n",
    "quick_sort(arr)\n",
    "print(\"\\nМассив после быстрой сортировк: \", end = \"\")\n",
    "print_arr(arr)"
   ]
  },
  {
   "cell_type": "markdown",
   "metadata": {},
   "source": [
    "### Сравнение времени"
   ]
  },
  {
   "cell_type": "code",
   "execution_count": 6,
   "metadata": {},
   "outputs": [
    {
     "name": "stdout",
     "output_type": "stream",
     "text": [
      "Введите длинну массива: 10\n",
      "Введите число итераций: 16\n",
      "\n",
      "Массив отсартирован сортировкой вставками за:  0.0\n",
      "\n",
      "Массив отсортирован сортировкой слиянием:  0.0\n",
      "\n",
      "Массив быстрой сортировкой за:  0.0\n"
     ]
    }
   ],
   "source": [
    "from time import time\n",
    "import copy\n",
    "\n",
    "n = int(input(\"Введите длинну массива: \"))\n",
    "n1 = int(input(\"Введите число итераций: \"))\n",
    "\n",
    "arr = generate_arr(n)\n",
    "\n",
    "t1 = 0\n",
    "t2 = 0\n",
    "t3 = 0\n",
    "\n",
    "for i in range(n):\n",
    "    time_in = time()\n",
    "    insertion_sort(arr)\n",
    "    time_out = time()\n",
    "    t1 += (time_out - time_in)\n",
    "    \n",
    "for i in range(n):\n",
    "    time_in = time()\n",
    "    gnome_sort(arr)\n",
    "    time_out = time()\n",
    "    t2 += (time_out - time_in)\n",
    "\n",
    "for i in range(n):\n",
    "    arr1 = copy.deepcopy(arr)\n",
    "    time_in = time()\n",
    "    quick_sort(arr1)\n",
    "    time_out = time()\n",
    "    t3 += (time_out - time_in)\n",
    "\n",
    "\n",
    "print(\"\\nМассив отсартирован сортировкой вставками за: \", t1)\n",
    "print(\"\\nМассив отсортирован сортировкой слиянием: \", t2)\n",
    "print(\"\\nМассив быстрой сортировкой за: \", t3)"
   ]
  },
  {
   "cell_type": "code",
   "execution_count": null,
   "metadata": {},
   "outputs": [],
   "source": []
  },
  {
   "cell_type": "code",
   "execution_count": 7,
   "metadata": {},
   "outputs": [
    {
     "data": {
      "text/plain": [
       "1"
      ]
     },
     "execution_count": 7,
     "metadata": {},
     "output_type": "execute_result"
    }
   ],
   "source": [
    "1"
   ]
  }
 ],
 "metadata": {
  "kernelspec": {
   "display_name": "Python 3",
   "language": "python",
   "name": "python3"
  },
  "language_info": {
   "codemirror_mode": {
    "name": "ipython",
    "version": 3
   },
   "file_extension": ".py",
   "mimetype": "text/x-python",
   "name": "python",
   "nbconvert_exporter": "python",
   "pygments_lexer": "ipython3",
   "version": "3.7.6"
  }
 },
 "nbformat": 4,
 "nbformat_minor": 4
}
