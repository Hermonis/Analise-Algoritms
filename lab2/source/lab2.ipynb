{
 "cells": [
  {
   "cell_type": "code",
   "execution_count": 1,
   "metadata": {},
   "outputs": [],
   "source": [
    "from random import randrange\n",
    "\n",
    "def gen_matrix(n, m):\n",
    "    return [[randrange(1, 10) for i in range(n)] for i in range(m)]\n",
    "\n",
    "def OutTbl(table):\n",
    "    for i in range(len(table)):\n",
    "        for j in range(len(table[i])):\n",
    "            print(\"{0:2}\".format(table[i][j]), end = \" \")\n",
    "        print()\n",
    "    print()"
   ]
  },
  {
   "cell_type": "markdown",
   "metadata": {},
   "source": [
    "### Обычное умножение матриц"
   ]
  },
  {
   "cell_type": "code",
   "execution_count": 2,
   "metadata": {},
   "outputs": [],
   "source": [
    "def MatrMult(m1, m2):\n",
    "    r2 = len(m2)\n",
    "    c1 = len(m1[0])\n",
    "    \n",
    "    if r2 != c1:\n",
    "        return\n",
    "\n",
    "    r1 = len(m1)\n",
    "    c2 = len(m2[0])\n",
    "    \n",
    "    res = [[0 for i in range(c2)] for j in range(r1)]\n",
    "\n",
    "    for i in range(r1):\n",
    "        for j in range(c2):\n",
    "            for k in range(c1):\n",
    "                res[i][j] += m1[i][k] * m2[k][j]\n",
    "    return res"
   ]
  },
  {
   "cell_type": "markdown",
   "metadata": {},
   "source": [
    "### Умножение методом винограда"
   ]
  },
  {
   "cell_type": "code",
   "execution_count": 3,
   "metadata": {},
   "outputs": [],
   "source": [
    "def MatrMultVin(mx1, mx2):\n",
    "    n1 = len(mx1)\n",
    "    n2 = len(mx2)\n",
    "    \n",
    "    if (n1 == 0 or n2 == 0):\n",
    "        return\n",
    "    \n",
    "    m1 = len(mx1[0])\n",
    "    m2 = len(mx2[0])\n",
    "    if (m1 == 0 or m2 == 0):\n",
    "        return\n",
    "    \n",
    "    mulH = [0 for i in range(n1)]\n",
    "    mulV = [0 for i in range(m2)]\n",
    "    \n",
    "    res = [[0 for i in range(m2)] for i in range(n1)]\n",
    "    \n",
    "    for i in range(n1):\n",
    "        for j in range(int(m1 // 2)):\n",
    "            mulH[i] = mulH[i] + mx1[i][j * 2] * mx1[i][j * 2 + 1]\n",
    "    \n",
    "    for i in range(m2):\n",
    "        for j in range(int(m1 // 2)):\n",
    "            mulV[i] = mulV[i] + mx2[j * 2][i] * mx2[j * 2 + 1][i]\n",
    "            \n",
    "    for i in range(n1):\n",
    "        for j in range(m2):\n",
    "            res[i][j] = -mulH[i] - mulV[j]\n",
    "            for k in range(int(m1/2)):\n",
    "                res[i][j] = res[i][j] + (mx1[i][2 * k + 1] + mx2[2 * k][j]) * (mx1[i][2*k] + mx2[2 * k + 1][j])\n",
    "                \n",
    "    if m1 % 2 == 1:\n",
    "        for i in range(n1):\n",
    "            for j in range(m2):\n",
    "                res[i][j] = res[i][j] + mx1[i][m1 - 2] * mx2[m1 - 1][j]\n",
    "                \n",
    "    return(res)"
   ]
  },
  {
   "cell_type": "code",
   "execution_count": 4,
   "metadata": {},
   "outputs": [],
   "source": [
    "def Vinograd_optim(matrix1, matrix2):\n",
    "    n1 = len(matrix1)\n",
    "    n2 = len(matrix2)\n",
    "    \n",
    "    if (n1 == 0 or n2 == 0):\n",
    "        return\n",
    "    \n",
    "    m1 = len(matrix1[0])\n",
    "    m2 = len(matrix2[0])\n",
    "    if (m1 == 0 or m2 == 0):\n",
    "        return\n",
    "    \n",
    "    mulH = [0 for i in range(n1)]\n",
    "    mulV = [0 for i in range(m2)]\n",
    "    \n",
    "    result = [[0 for i in range(m2)] for i in range(n1)]\n",
    "    \n",
    "    m1Mod2 = m1 % 2;\n",
    "    n2Mod2 = n2 % 2;\n",
    "\n",
    "    for i in range(n1):\n",
    "        for j in range (0, m1 - m1Mod2, 2):\n",
    "            mulH[i] += matrix1[i][j] * matrix1[i][j + 1]\n",
    "            \n",
    "\n",
    "    for i in range(m2):\n",
    "        for j in range(0, n2 - n2Mod2, 2):\n",
    "            mulV[i] += matrix2[j][i] * matrix2[j + 1][i];\n",
    "\n",
    "    for i in range(n1):\n",
    "        for j in range(m2):\n",
    "            buff = -(mulH[i] + mulV[j])\n",
    "            for k in range(0, m1 - m1Mod2, 2):\n",
    "                buff += (matrix1[i][k + 1] + matrix2[k][j]) * (matrix1[i][k] + matrix2[k + 1][j]);\n",
    "            result[i][j] = buff;\n",
    "\n",
    "    if (m1Mod2):\n",
    "        m1Min_1 = m1 - 1\n",
    "        for i in range(n1):\n",
    "            for j in range(m2):\n",
    "                result[i][j] += matrix1[i][m1Min_1]\t* matrix2[m1Min_1][j]\n",
    "    return result"
   ]
  },
  {
   "cell_type": "markdown",
   "metadata": {},
   "source": [
    "### Результат работы алгоритмов"
   ]
  },
  {
   "cell_type": "code",
   "execution_count": 8,
   "metadata": {},
   "outputs": [
    {
     "name": "stdout",
     "output_type": "stream",
     "text": [
      "M1:\n",
      " 5  9  5 \n",
      " 6  9  6 \n",
      " 7  8  1 \n",
      "\n",
      "M2:\n",
      " 9  9  7 \n",
      " 7  5  7 \n",
      " 1  1  2 \n",
      "\n",
      "Результат работы обычного алгоритма умножения матриц:\n",
      "113 95 108 \n",
      "123 105 117 \n",
      "120 104 107 \n",
      "\n",
      "Результат работы алгоритма винограда умножения матриц:\n",
      "117 99 116 \n",
      "126 108 123 \n",
      "127 111 121 \n",
      "\n",
      "Результат работы алгоритма оптимизированного винограда умножения матриц:\n",
      "113 95 108 \n",
      "123 105 117 \n",
      "120 104 107 \n",
      "\n"
     ]
    }
   ],
   "source": [
    "m1 = gen_matrix(3, 3)\n",
    "m2 = gen_matrix(3, 3)\n",
    "\n",
    "print(\"M1:\")\n",
    "OutTbl(m1)\n",
    "print(\"M2:\")\n",
    "OutTbl(m2)\n",
    "\n",
    "print(\"Результат работы обычного алгоритма умножения матриц:\")\n",
    "OutTbl(MatrMult(m1, m2))\n",
    "print(\"Результат работы алгоритма винограда умножения матриц:\")\n",
    "OutTbl(MatrMultVin(m1, m2))\n",
    "print(\"Результат работы алгоритма оптимизированного винограда умножения матриц:\")\n",
    "OutTbl(Vinograd_optim(m1, m2))"
   ]
  },
  {
   "cell_type": "markdown",
   "metadata": {},
   "source": [
    "### Время работы алгоритмаов"
   ]
  },
  {
   "cell_type": "code",
   "execution_count": null,
   "metadata": {},
   "outputs": [],
   "source": [
    "m1 = gen_matrix(400, 500)\n",
    "m2 = gen_matrix(500, 400)\n",
    "\n",
    "from time import time\n",
    "import copy\n",
    "\n",
    "n = int(input(\"Введите число итераций: \"))\n",
    "\n",
    "t1 = 0\n",
    "t2 = 0\n",
    "t3 = 0\n",
    "\n",
    "for i in range(n):\n",
    "    time_in = time()\n",
    "    MatrMult(m1, m2)\n",
    "    time_out = time()\n",
    "    t1 += (time_out - time_in)\n",
    "    \n",
    "for i in range(n):\n",
    "    time_in = time()\n",
    "    MatrMultVin(m1, m2)\n",
    "    time_out = time()\n",
    "    t2 += (time_out - time_in)\n",
    "\n",
    "for i in range(n):\n",
    "    time_in = time()\n",
    "    Vinograd_optim(m1, m2)\n",
    "    time_out = time()\n",
    "    t3 += (time_out - time_in)\n",
    "\n",
    "\n",
    "print(\"\\nВремя работы обычного алгоритма умножения матриц: \", t1)\n",
    "print(\"\\nВремя работы алгоритма винограда: \", t2)\n",
    "print(\"\\nВремя работы оптимизированного алгоритма винограда: \", t3)"
   ]
  },
  {
   "cell_type": "code",
   "execution_count": null,
   "metadata": {},
   "outputs": [],
   "source": []
  },
  {
   "cell_type": "code",
   "execution_count": null,
   "metadata": {},
   "outputs": [],
   "source": []
  }
 ],
 "metadata": {
  "kernelspec": {
   "display_name": "Python 3",
   "language": "python",
   "name": "python3"
  },
  "language_info": {
   "codemirror_mode": {
    "name": "ipython",
    "version": 3
   },
   "file_extension": ".py",
   "mimetype": "text/x-python",
   "name": "python",
   "nbconvert_exporter": "python",
   "pygments_lexer": "ipython3",
   "version": "3.7.6"
  }
 },
 "nbformat": 4,
 "nbformat_minor": 4
}
